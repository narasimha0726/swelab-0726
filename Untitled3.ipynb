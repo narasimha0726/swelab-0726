{
  "nbformat": 4,
  "nbformat_minor": 0,
  "metadata": {
    "colab": {
      "provenance": [],
      "authorship_tag": "ABX9TyMdDdETWGJZLZ3zuHlORe+M",
      "include_colab_link": true
    },
    "kernelspec": {
      "name": "python3",
      "display_name": "Python 3"
    },
    "language_info": {
      "name": "python"
    }
  },
  "cells": [
    {
      "cell_type": "markdown",
      "metadata": {
        "id": "view-in-github",
        "colab_type": "text"
      },
      "source": [
        "<a href=\"https://colab.research.google.com/github/narasimha0726/swelab-0726/blob/main/Untitled3.ipynb\" target=\"_parent\"><img src=\"https://colab.research.google.com/assets/colab-badge.svg\" alt=\"Open In Colab\"/></a>"
      ]
    },
    {
      "cell_type": "markdown",
      "source": [],
      "metadata": {
        "id": "Sn1hQXtFxCnz"
      }
    },
    {
      "cell_type": "markdown",
      "source": [
        "1.\tHardcoding variables."
      ],
      "metadata": {
        "id": "IVtIEOolxEM7"
      }
    },
    {
      "cell_type": "code",
      "source": [
        "# Hardcoded values for coefficients\n",
        "a = 0.05\n",
        "b = -0.5\n",
        "c = 15\n",
        "\n",
        "# Day of interest\n",
        "day = 10\n",
        "\n",
        "# Quadratic formula for temperature\n",
        "temperature = a * (day ** 2) + b * day + c\n",
        "\n",
        "# Output the temperature\n",
        "print(f\"Temperature on day {day}: {temperature:.2f} °C\")\n"
      ],
      "metadata": {
        "colab": {
          "base_uri": "https://localhost:8080/"
        },
        "id": "wEnfZSAGxF27",
        "outputId": "3e3ffb13-0d54-4e24-99f4-a90a921826e8"
      },
      "execution_count": null,
      "outputs": [
        {
          "output_type": "stream",
          "name": "stdout",
          "text": [
            "Temperature on day 10: 15.00 °C\n"
          ]
        }
      ]
    },
    {
      "cell_type": "markdown",
      "source": [
        "\n",
        "2.\tAccepting variables via keyboard input."
      ],
      "metadata": {
        "id": "UM7-Tnv3xv2M"
      }
    },
    {
      "cell_type": "code",
      "source": [
        "# Accept inputs from user\n",
        "a = float(input(\"Enter the coefficient a: \"))\n",
        "b = float(input(\"Enter the coefficient b: \"))\n",
        "c = float(input(\"Enter the coefficient c: \"))\n",
        "day = int(input(\"Enter the day number: \"))\n",
        "\n",
        "# Calculate temperature using quadratic formula\n",
        "temperature = a * (day ** 2) + b * day + c\n",
        "\n",
        "# Output the temperature\n",
        "print(f\"Temperature on day {day}: {temperature:.2f} °C\")\n"
      ],
      "metadata": {
        "colab": {
          "base_uri": "https://localhost:8080/"
        },
        "id": "d9niN70Dx8lc",
        "outputId": "720c49b5-7809-42cd-895c-56505264f549"
      },
      "execution_count": null,
      "outputs": [
        {
          "output_type": "stream",
          "name": "stdout",
          "text": [
            "Enter the coefficient a: 12\n",
            "Enter the coefficient b: 23\n",
            "Enter the coefficient c: 11\n",
            "Enter the day number: 4\n",
            "Temperature on day 4: 295.00 °C\n"
          ]
        }
      ]
    },
    {
      "cell_type": "markdown",
      "source": [
        "3.\tReading variables from a file."
      ],
      "metadata": {
        "id": "P_26kDvByZ1M"
      }
    },
    {
      "cell_type": "code",
      "source": [
        "# Read input from a file\n",
        "with open(\"input.txt\", \"r\") as file:\n",
        "    a = float(file.readline().strip())\n",
        "    b = float(file.readline().strip())\n",
        "    c = float(file.readline().strip())\n",
        "    day = int(file.readline().strip())\n",
        "\n",
        "# Calculate temperature using quadratic formula\n",
        "temperature = a * (day ** 2) + b * day + c\n",
        "\n",
        "# Output the temperature\n",
        "print(f\"Temperature on day {day}: {temperature:.2f} °C\")\n",
        "\n",
        "\n"
      ],
      "metadata": {
        "colab": {
          "base_uri": "https://localhost:8080/"
        },
        "id": "3jw7tMWXynAi",
        "outputId": "9d0e0956-213e-4677-cdab-ecfac6b51f85"
      },
      "execution_count": null,
      "outputs": [
        {
          "output_type": "stream",
          "name": "stdout",
          "text": [
            "Temperature on day 10: 15.00 °C\n"
          ]
        }
      ]
    },
    {
      "cell_type": "markdown",
      "source": [
        "4.\tProcessing a single set of inputs."
      ],
      "metadata": {
        "id": "zefci-qAzRkK"
      }
    },
    {
      "cell_type": "code",
      "source": [
        "# This is already covered in the previous step.\n",
        "# The code reads input from the file and calculates the temperature.\n"
      ],
      "metadata": {
        "id": "8CKXd5djzcsr"
      },
      "execution_count": null,
      "outputs": []
    },
    {
      "cell_type": "markdown",
      "source": [],
      "metadata": {
        "id": "dFxh4tLxwq5D"
      }
    }
  ]
}