{
  "nbformat": 4,
  "nbformat_minor": 0,
  "metadata": {
    "colab": {
      "provenance": [],
      "toc_visible": true,
      "include_colab_link": true
    },
    "kernelspec": {
      "name": "python3",
      "display_name": "Python 3"
    },
    "language_info": {
      "name": "python"
    }
  },
  "cells": [
    {
      "cell_type": "markdown",
      "metadata": {
        "id": "view-in-github",
        "colab_type": "text"
      },
      "source": [
        "<a href=\"https://colab.research.google.com/github/narasimha0726/swelab-0726/blob/main/setask2.ipynb\" target=\"_parent\"><img src=\"https://colab.research.google.com/assets/colab-badge.svg\" alt=\"Open In Colab\"/></a>"
      ]
    },
    {
      "cell_type": "markdown",
      "source": [],
      "metadata": {
        "id": "aVBGfUo6xQzs"
      }
    },
    {
      "cell_type": "markdown",
      "source": [
        "1.\tHardcoding variables."
      ],
      "metadata": {
        "id": "1joQuxhrx5Zq"
      }
    },
    {
      "cell_type": "code",
      "source": [
        "# Stage 1: Hardcoding Variables\n",
        "\n",
        "def weather_model(x):\n",
        "    a = 0.02\n",
        "    b = -0.5\n",
        "    c = 25\n",
        "    return a * x**2 + b * x + c\n",
        "\n",
        "time_of_day = 5  # Hardcoded time of day (e.g., 5 PM)\n",
        "temperature = weather_model(time_of_day)\n",
        "print(f\"Temperature at {time_of_day} hours is: {temperature:.2f}°C\")\n"
      ],
      "metadata": {
        "colab": {
          "base_uri": "https://localhost:8080/"
        },
        "id": "oBfsMUYex6ss",
        "outputId": "2d99c130-f7a9-45f4-cd6e-6a3160361cb9"
      },
      "execution_count": null,
      "outputs": [
        {
          "output_type": "stream",
          "name": "stdout",
          "text": [
            "Temperature at 5 hours is: 23.00°C\n"
          ]
        }
      ]
    },
    {
      "cell_type": "markdown",
      "source": [
        "2.\tAccepting variables via keyboard input."
      ],
      "metadata": {
        "id": "xE1eOOVryUtj"
      }
    },
    {
      "cell_type": "code",
      "source": [
        "# Stage 2: Accepting Variables via Keyboard Input\n",
        "\n",
        "def weather_model(x):\n",
        "    a = 0.02\n",
        "    b = -0.5\n",
        "    c = 25\n",
        "    return a * x**2 + b * x + c\n",
        "\n",
        "time_of_day = float(input(\"Enter the time of day (in hours): \"))\n",
        "temperature = weather_model(time_of_day)\n",
        "print(f\"Temperature at {time_of_day} hours is: {temperature:.2f}°C\")\n"
      ],
      "metadata": {
        "colab": {
          "base_uri": "https://localhost:8080/"
        },
        "id": "crxL5pIIycS0",
        "outputId": "51ed95ca-2f80-46f1-9e0f-07b02636ce27"
      },
      "execution_count": null,
      "outputs": [
        {
          "output_type": "stream",
          "name": "stdout",
          "text": [
            "Enter the time of day (in hours): 2\n",
            "Temperature at 2.0 hours is: 24.08°C\n"
          ]
        }
      ]
    },
    {
      "cell_type": "markdown",
      "source": [
        "3.\tReading variables from a file."
      ],
      "metadata": {
        "id": "XKOC-VElyk2z"
      }
    },
    {
      "cell_type": "code",
      "source": [
        "# Stage 3: Reading variables from a file\n",
        "with open('input_data.txt', 'r') as file:\n",
        "    for line in file:\n",
        "        # Parse the values from the line\n",
        "        a, b, c, x = map(float, line.split())\n",
        "\n",
        "        # Quadratic equation to calculate temperature\n",
        "        temperature = a * x**2 + b * x + c\n",
        "\n",
        "        # Output the result\n",
        "        print(f\"At time {x}, the temperature is: {temperature}°C\")\n"
      ],
      "metadata": {
        "colab": {
          "base_uri": "https://localhost:8080/"
        },
        "id": "-FGCulKp0Dg3",
        "outputId": "dc4aaee1-56d4-43bd-ada5-2e3e3ca9f716"
      },
      "execution_count": null,
      "outputs": [
        {
          "output_type": "stream",
          "name": "stdout",
          "text": [
            "At time 5.0, the temperature is: 32.5°C\n",
            "At time 6.0, the temperature is: 55.0°C\n"
          ]
        }
      ]
    },
    {
      "cell_type": "markdown",
      "source": [
        "4.\tProcessing a single set of inputs"
      ],
      "metadata": {
        "id": "laC0ejn71CGl"
      }
    },
    {
      "cell_type": "code",
      "source": [
        "# Stage 4: Processing a single set of inputs\n",
        "a = 0.5\n",
        "b = -2\n",
        "c = 30\n",
        "x = 5\n",
        "\n",
        "# Quadratic equation to calculate temperature\n",
        "temperature = a * x**2 + b * x + c\n",
        "\n",
        "# Output the result\n",
        "print(f\"At time {x}, the temperature is: {temperature}°C\")\n"
      ],
      "metadata": {
        "colab": {
          "base_uri": "https://localhost:8080/"
        },
        "id": "AXlOTzX91Fxl",
        "outputId": "5da1fb88-a136-422f-8a95-ac649b558015"
      },
      "execution_count": null,
      "outputs": [
        {
          "output_type": "stream",
          "name": "stdout",
          "text": [
            "At time 5, the temperature is: 32.5°C\n"
          ]
        }
      ]
    },
    {
      "cell_type": "code",
      "source": [
        "5.\tProcessing multiple sets of inputs."
      ],
      "metadata": {
        "id": "IMr614fl1Ibl"
      },
      "execution_count": null,
      "outputs": []
    },
    {
      "cell_type": "code",
      "source": [
        "# Stage 5: Processing multiple sets of inputs\n",
        "with open('input_data.txt', 'r') as file:\n",
        "    for line in file:\n",
        "        # Parse the values from the line\n",
        "        a, b, c, x = map(float, line.split())\n",
        "\n",
        "        # Quadratic equation to calculate temperature\n",
        "        temperature = a * x**2 + b * x + c\n",
        "\n",
        "        # Output the result\n",
        "        print(f\"At time {x}, the temperature is: {temperature}°C\")\n"
      ],
      "metadata": {
        "colab": {
          "base_uri": "https://localhost:8080/"
        },
        "id": "VkaKtXR11Lf9",
        "outputId": "49fd088a-4cb3-4dfe-a7d5-5846a4f1ed49"
      },
      "execution_count": null,
      "outputs": [
        {
          "output_type": "stream",
          "name": "stdout",
          "text": [
            "At time 5.0, the temperature is: 32.5°C\n",
            "At time 6.0, the temperature is: 55.0°C\n"
          ]
        }
      ]
    }
  ]
}